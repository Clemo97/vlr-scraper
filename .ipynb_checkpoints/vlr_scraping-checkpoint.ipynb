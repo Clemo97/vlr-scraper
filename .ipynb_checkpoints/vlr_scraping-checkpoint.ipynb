{
 "cells": [
  {
   "cell_type": "markdown",
   "metadata": {},
   "source": [
    "Data Scrape https://www.vlr.gg/events/korea and visualize the data."
   ]
  },
  {
   "cell_type": "code",
   "execution_count": null,
   "metadata": {
    "colab": {
     "base_uri": "https://localhost:8080/"
    },
    "id": "hiI3xW3ZBICZ",
    "outputId": "e4e4eb68-b8e6-405e-fd70-1e3d0b3f16ed"
   },
   "outputs": [],
   "source": [
    "import requests\n",
    "from selectolax.parser import HTMLParser\n",
    "import re\n",
    "\n",
    "def extract_dates(event_url):\n",
    "    html = requests.get(event_url).text\n",
    "    parser = HTMLParser(html)\n",
    "    date_element = parser.css_first(\".event-desc-item-value\")\n",
    "    return date_element.text(strip=True) if date_element else None\n",
    "\n",
    "# Fetch the HTML data from the URL\n",
    "url = \"https://www.vlr.gg/events/asia-pacific\"\n",
    "html = requests.get(url).text\n",
    "parser = HTMLParser(html)\n",
    "\n",
    "# Find all the event items in the HTML code\n",
    "event_items = parser.css(\"a.event-item\")\n",
    "\n",
    "# Loop through the event items and extract the data\n",
    "events = []\n",
    "for item in event_items:\n",
    "    href = item.attributes.get('href')\n",
    "    title = re.sub(r'\\s+', ' ', item.css_first(\"div.event-item-title\").text()).strip()\n",
    "    status = re.sub(r'\\s+', ' ', item.css_first(\"span.event-item-desc-item-status\").text()).strip()\n",
    "    prize = re.sub(r'\\s+', ' ', item.css_first(\"div.event-item-desc-item.mod-prize\").text()).strip()\n",
    "\n",
    "    # Get the event URL and extract the dates\n",
    "    event_url = f\"https://www.vlr.gg{href}\"\n",
    "    dates = extract_dates(event_url)\n",
    "\n",
    "    event = {\n",
    "        \"title\": title,\n",
    "        \"status\": status,\n",
    "        \"prize\": prize,\n",
    "        \"dates\": dates\n",
    "    }\n",
    "    events.append(event)\n",
    "\n",
    "# Print the extracted data\n",
    "print(events)\n"
   ]
  },
  {
   "cell_type": "markdown",
   "metadata": {},
   "source": [
    "TABULATE DATA"
   ]
  },
  {
   "cell_type": "code",
   "execution_count": null,
   "metadata": {},
   "outputs": [],
   "source": [
    "import tabulate\n",
    "dataset = events\n",
    "header = dataset[0].keys()\n",
    "rows =  [x.values() for x in dataset]\n",
    "print(tabulate.tabulate(rows, header))"
   ]
  },
  {
   "cell_type": "code",
   "execution_count": null,
   "metadata": {},
   "outputs": [],
   "source": []
  }
 ],
 "metadata": {
  "colab": {
   "provenance": []
  },
  "kernelspec": {
   "display_name": "Python 3 (ipykernel)",
   "language": "python",
   "name": "python3"
  },
  "language_info": {
   "codemirror_mode": {
    "name": "ipython",
    "version": 3
   },
   "file_extension": ".py",
   "mimetype": "text/x-python",
   "name": "python",
   "nbconvert_exporter": "python",
   "pygments_lexer": "ipython3",
   "version": "3.10.12"
  }
 },
 "nbformat": 4,
 "nbformat_minor": 1
}
