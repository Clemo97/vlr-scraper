{
 "cells": [
  {
   "cell_type": "markdown",
   "metadata": {},
   "source": [
    "Data Scrape https://www.vlr.gg/events/korea and visualize the data."
   ]
  },
  {
   "cell_type": "code",
   "execution_count": 3,
   "metadata": {
    "colab": {
     "base_uri": "https://localhost:8080/"
    },
    "id": "hiI3xW3ZBICZ",
    "outputId": "e4e4eb68-b8e6-405e-fd70-1e3d0b3f16ed"
   },
   "outputs": [
    {
     "name": "stdout",
     "output_type": "stream",
     "text": [
      "[{'title': 'Game Changers 2023 Japan: Split 1', 'status': 'completed', 'prize': '$7,225Prize Pool', 'dates': 'Jul 14 - 30, 2023'}, {'title': 'Champions Tour 2023: Masters Tokyo', 'status': 'completed', 'prize': '$1,000,000Prize Pool', 'dates': 'Jun 11 - 25, 2023'}, {'title': 'Challengers League Japan: Split 2', 'status': 'completed', 'prize': '$37,515Prize Pool', 'dates': 'Mar 21, 2023 - Jun 4, 2023'}, {'title': 'Challengers League Japan: Split 1', 'status': 'completed', 'prize': '$75,366Prize Pool', 'dates': 'Jan 13, 2023 - Mar 19, 2023'}, {'title': 'Riot Games ONE Pro Invitational', 'status': 'completed', 'prize': '$0Prize Pool', 'dates': 'Dec 24, 2022'}, {'title': 'Riot Games ONE THE DEFIERS', 'status': 'completed', 'prize': '$0Prize Pool', 'dates': 'Dec 23, 2022'}, {'title': 'Riot Games ONE Pro Invitational Online', 'status': 'completed', 'prize': '$0Prize Pool', 'dates': 'Dec 10 - 18, 2022'}, {'title': 'RAGE Autumn 2022', 'status': 'completed', 'prize': '$0Prize Pool', 'dates': 'Oct 8 - 9, 2022'}, {'title': 'UTAGE Season 5', 'status': 'completed', 'prize': '$4,380Prize Pool', 'dates': 'Aug 26 - 28, 2022'}, {'title': 'Champions Tour Japan Stage 2: Challengers Playoffs', 'status': 'completed', 'prize': '$15,465Prize Pool', 'dates': 'Jun 10 - 26, 2022'}, {'title': 'Champions Tour Japan Stage 2: Challengers Week 2', 'status': 'completed', 'prize': '$0Prize Pool', 'dates': 'May 25, 2022 - Jun 5, 2022'}, {'title': 'Champions Tour Japan Stage 2: Challengers Week 1', 'status': 'completed', 'prize': '$0Prize Pool', 'dates': 'May 11 - 22, 2022'}, {'title': 'Champions Tour Japan Stage 1: Challengers Playoffs', 'status': 'completed', 'prize': '$17,575Prize Pool', 'dates': 'Mar 24 - 27, 2022'}, {'title': 'Champions Tour Japan Stage 1: Challengers Week 2', 'status': 'completed', 'prize': '$0Prize Pool', 'dates': 'Mar 1 - 13, 2022'}, {'title': 'Champions Tour Japan Stage 1: Challengers Week 1', 'status': 'completed', 'prize': '$0Prize Pool', 'dates': 'Feb 15 - 27, 2022'}]\n"
     ]
    }
   ],
   "source": [
    "import requests\n",
    "from selectolax.parser import HTMLParser\n",
    "\n",
    "def extract_dates(event_url):\n",
    "    html = requests.get(event_url).text\n",
    "    parser = HTMLParser(html.encode())\n",
    "    date_element = parser.css_first(\".event-desc-item-value\")\n",
    "    return date_element.text(strip=True) if date_element else None\n",
    "\n",
    "# Fetch the HTML data from the URL\n",
    "url = \"https://www.vlr.gg/events/japan\"\n",
    "html = requests.get(url).text\n",
    "parser = HTMLParser(html)\n",
    "\n",
    "# Find all the event items in the HTML code\n",
    "event_items = parser.css(\"a.event-item\")\n",
    "\n",
    "# Loop through the event items and extract the data\n",
    "events = []\n",
    "for item in event_items:\n",
    "    href = item.attributes.get('href')\n",
    "    title = item.css_first(\"div.event-item-title\").text(strip=True)\n",
    "    status = item.css_first(\"span.event-item-desc-item-status\").text(strip=True)\n",
    "    prize = item.css_first(\"div.event-item-desc-item.mod-prize\").text(strip=True)\n",
    "\n",
    "    # Get the event URL and extract the dates\n",
    "    event_url = f\"https://www.vlr.gg{href}\"\n",
    "    dates = extract_dates(event_url)\n",
    "\n",
    "    event = {\n",
    "        \"title\": title,\n",
    "        \"status\": status,\n",
    "        \"prize\": prize,\n",
    "        \"dates\": dates\n",
    "    }\n",
    "    events.append(event)\n",
    "\n",
    "# Print the extracted data\n",
    "print(events)"
   ]
  },
  {
   "cell_type": "markdown",
   "metadata": {},
   "source": [
    "TABULATE DATA"
   ]
  },
  {
   "cell_type": "code",
   "execution_count": 2,
   "metadata": {},
   "outputs": [
    {
     "name": "stdout",
     "output_type": "stream",
     "text": [
      "title                                               status     prize                 dates\n",
      "--------------------------------------------------  ---------  --------------------  ---------------------------\n",
      "Game Changers 2023 Japan: Split 1                   completed  $7,225Prize Pool      Jul 14 - 30, 2023\n",
      "Champions Tour 2023: Masters Tokyo                  completed  $1,000,000Prize Pool  Jun 11 - 25, 2023\n",
      "Challengers League Japan: Split 2                   completed  $37,515Prize Pool     Mar 21, 2023 - Jun 4, 2023\n",
      "Challengers League Japan: Split 1                   completed  $75,366Prize Pool     Jan 13, 2023 - Mar 19, 2023\n",
      "Riot Games ONE Pro Invitational                     completed  $0Prize Pool          Dec 24, 2022\n",
      "Riot Games ONE THE DEFIERS                          completed  $0Prize Pool          Dec 23, 2022\n",
      "Riot Games ONE Pro Invitational Online              completed  $0Prize Pool          Dec 10 - 18, 2022\n",
      "RAGE Autumn 2022                                    completed  $0Prize Pool          Oct 8 - 9, 2022\n",
      "UTAGE Season 5                                      completed  $4,380Prize Pool      Aug 26 - 28, 2022\n",
      "Champions Tour Japan Stage 2: Challengers Playoffs  completed  $15,465Prize Pool     Jun 10 - 26, 2022\n",
      "Champions Tour Japan Stage 2: Challengers Week 2    completed  $0Prize Pool          May 25, 2022 - Jun 5, 2022\n",
      "Champions Tour Japan Stage 2: Challengers Week 1    completed  $0Prize Pool          May 11 - 22, 2022\n",
      "Champions Tour Japan Stage 1: Challengers Playoffs  completed  $17,575Prize Pool     Mar 24 - 27, 2022\n",
      "Champions Tour Japan Stage 1: Challengers Week 2    completed  $0Prize Pool          Mar 1 - 13, 2022\n",
      "Champions Tour Japan Stage 1: Challengers Week 1    completed  $0Prize Pool          Feb 15 - 27, 2022\n"
     ]
    }
   ],
   "source": [
    "import tabulate\n",
    "dataset = events\n",
    "header = dataset[0].keys()\n",
    "rows =  [x.values() for x in dataset]\n",
    "print(tabulate.tabulate(rows, header))"
   ]
  },
  {
   "cell_type": "code",
   "execution_count": null,
   "metadata": {},
   "outputs": [],
   "source": []
  },
  {
   "cell_type": "code",
   "execution_count": null,
   "metadata": {},
   "outputs": [],
   "source": []
  }
 ],
 "metadata": {
  "colab": {
   "provenance": []
  },
  "kernelspec": {
   "display_name": "Python 3 (ipykernel)",
   "language": "python",
   "name": "python3"
  },
  "language_info": {
   "codemirror_mode": {
    "name": "ipython",
    "version": 3
   },
   "file_extension": ".py",
   "mimetype": "text/x-python",
   "name": "python",
   "nbconvert_exporter": "python",
   "pygments_lexer": "ipython3",
   "version": "3.10.12"
  }
 },
 "nbformat": 4,
 "nbformat_minor": 4
}
