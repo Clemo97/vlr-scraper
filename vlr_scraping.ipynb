{
  "cells": [
    {
      "attachments": {},
      "cell_type": "markdown",
      "metadata": {},
      "source": [
        "Data Scrape https://www.vlr.gg/events/korea and visualize the data."
      ]
    },
    {
      "cell_type": "code",
      "execution_count": 21,
      "metadata": {
        "colab": {
          "base_uri": "https://localhost:8080/"
        },
        "id": "hiI3xW3ZBICZ",
        "outputId": "e4e4eb68-b8e6-405e-fd70-1e3d0b3f16ed"
      },
      "outputs": [
        {
          "name": "stdout",
          "output_type": "stream",
          "text": [
            "[{'title': 'World Cyber Games Challengers League Korea: Split 2', 'status': 'ongoing', 'prize': '$56,791 Prize Pool', 'dates': 'Mar 18—Jun 3 Dates'}, {'title': 'World Cyber Games Challengers League Korea: Split 1', 'status': 'completed', 'prize': '$59,123 Prize Pool', 'dates': 'Jan 14—Feb 25 Dates'}, {'title': 'T.E.N 2022 FPS SPECIAL', 'status': 'completed', 'prize': '$0 Prize Pool', 'dates': 'Dec 22 Dates'}, {'title': 'World Cyber Games Rivals: Korea vs Japan', 'status': 'completed', 'prize': '$15,000 Prize Pool', 'dates': 'Dec 18 Dates'}, {'title': 'ESL Clash of Nations: KR/JP', 'status': 'completed', 'prize': '$6,000 Prize Pool', 'dates': 'Nov 10—Dec 11 Dates'}, {'title': 'Gwangju Esports Series Asia', 'status': 'completed', 'prize': '$14,975 Prize Pool', 'dates': 'Nov 26—27 Dates'}, {'title': 'TEN 5_Valorant Korea vs. Japan', 'status': 'completed', 'prize': '$5,543 Prize Pool', 'dates': 'Oct 3 Dates'}, {'title': 'Champions Tour Korea Stage 2: Challengers', 'status': 'completed', 'prize': '$82,940 Prize Pool', 'dates': 'May 6—Jun 26 Dates'}, {'title': 'Champions Tour Korea Stage 1: Challengers', 'status': 'completed', 'prize': '$88,389 Prize Pool', 'dates': 'Feb 4—Mar 27 Dates'}, {'title': 'LPL Spring Cup Legends 2021', 'status': 'completed', 'prize': '$1,851 Prize Pool', 'dates': 'Oct 18—Dec 13 Dates'}, {'title': 'National ShotVAL Pride', 'status': 'completed', 'prize': '$32,706 Prize Pool', 'dates': 'Nov 1—16 Dates'}, {'title': 'Champions Tour Korea Stage 3: Challengers', 'status': 'completed', 'prize': '$86,900 Prize Pool', 'dates': 'Jul 2—Aug 15 Dates'}, {'title': 'Champions Tour Korea Stage 2: Challengers', 'status': 'completed', 'prize': '$53,226 Prize Pool', 'dates': 'Apr 3—May 2 Dates'}, {'title': 'Champions Tour Korea Stage 1: Masters', 'status': 'completed', 'prize': '$100,000 Prize Pool', 'dates': 'Mar 12—21 Dates'}, {'title': 'Champions Tour Korea Stage 1: Challengers 3', 'status': 'completed', 'prize': '$17,966 Prize Pool', 'dates': 'Feb 27—Mar 7 Dates'}, {'title': 'Champions Tour Korea Stage 1: Challengers 2', 'status': 'completed', 'prize': '$17,966 Prize Pool', 'dates': 'Feb 8—21 Dates'}, {'title': 'Champions Tour Korea Stage 1: Challengers 1', 'status': 'completed', 'prize': '$17,813 Prize Pool', 'dates': 'Jan 30—Feb 7 Dates'}]\n"
          ]
        }
      ],
      "source": [
        "import requests\n",
        "from selectolax.parser import HTMLParser\n",
        "import re\n",
        "\n",
        "# Fetch the HTML data from the URL\n",
        "url = \"https://www.vlr.gg/events/korea\"\n",
        "html = requests.get(url).text\n",
        "\n",
        "# Create a selectolax parser instance\n",
        "parser = HTMLParser(html)\n",
        "\n",
        "# Find all the event items in the HTML code\n",
        "event_items = parser.css(\"a.event-item\")\n",
        "\n",
        "# Loop through the event items and extract the data\n",
        "events = []\n",
        "for item in event_items:\n",
        "    title = re.sub(r'\\s+', ' ', item.css_first(\"div.event-item-title\").text()).strip()\n",
        "    status = re.sub(r'\\s+', ' ', item.css_first(\"span.event-item-desc-item-status\").text()).strip()\n",
        "    prize = re.sub(r'\\s+', ' ', item.css_first(\"div.event-item-desc-item.mod-prize\").text()).strip()\n",
        "    dates = re.sub(r'\\s+', ' ', item.css_first(\"div.event-item-desc-item.mod-dates\").text()).strip()\n",
        "    event = {\n",
        "        \"title\": title,\n",
        "        \"status\": status,\n",
        "        \"prize\": prize,\n",
        "        \"dates\": dates\n",
        "    }\n",
        "    events.append(event)\n",
        "\n",
        "# Print the extracted data\n",
        "print(events)\n"
      ]
    },
    {
      "attachments": {},
      "cell_type": "markdown",
      "metadata": {},
      "source": [
        "TABULATE DATA"
      ]
    },
    {
      "cell_type": "code",
      "execution_count": 22,
      "metadata": {},
      "outputs": [
        {
          "name": "stdout",
          "output_type": "stream",
          "text": [
            "title                                                status     prize                dates\n",
            "---------------------------------------------------  ---------  -------------------  -------------------\n",
            "World Cyber Games Challengers League Korea: Split 2  ongoing    $56,791 Prize Pool   Mar 18—Jun 3 Dates\n",
            "World Cyber Games Challengers League Korea: Split 1  completed  $59,123 Prize Pool   Jan 14—Feb 25 Dates\n",
            "T.E.N 2022 FPS SPECIAL                               completed  $0 Prize Pool        Dec 22 Dates\n",
            "World Cyber Games Rivals: Korea vs Japan             completed  $15,000 Prize Pool   Dec 18 Dates\n",
            "ESL Clash of Nations: KR/JP                          completed  $6,000 Prize Pool    Nov 10—Dec 11 Dates\n",
            "Gwangju Esports Series Asia                          completed  $14,975 Prize Pool   Nov 26—27 Dates\n",
            "TEN 5_Valorant Korea vs. Japan                       completed  $5,543 Prize Pool    Oct 3 Dates\n",
            "Champions Tour Korea Stage 2: Challengers            completed  $82,940 Prize Pool   May 6—Jun 26 Dates\n",
            "Champions Tour Korea Stage 1: Challengers            completed  $88,389 Prize Pool   Feb 4—Mar 27 Dates\n",
            "LPL Spring Cup Legends 2021                          completed  $1,851 Prize Pool    Oct 18—Dec 13 Dates\n",
            "National ShotVAL Pride                               completed  $32,706 Prize Pool   Nov 1—16 Dates\n",
            "Champions Tour Korea Stage 3: Challengers            completed  $86,900 Prize Pool   Jul 2—Aug 15 Dates\n",
            "Champions Tour Korea Stage 2: Challengers            completed  $53,226 Prize Pool   Apr 3—May 2 Dates\n",
            "Champions Tour Korea Stage 1: Masters                completed  $100,000 Prize Pool  Mar 12—21 Dates\n",
            "Champions Tour Korea Stage 1: Challengers 3          completed  $17,966 Prize Pool   Feb 27—Mar 7 Dates\n",
            "Champions Tour Korea Stage 1: Challengers 2          completed  $17,966 Prize Pool   Feb 8—21 Dates\n",
            "Champions Tour Korea Stage 1: Challengers 1          completed  $17,813 Prize Pool   Jan 30—Feb 7 Dates\n"
          ]
        }
      ],
      "source": [
        "import tabulate\n",
        "dataset = events\n",
        "header = dataset[0].keys()\n",
        "rows =  [x.values() for x in dataset]\n",
        "print(tabulate.tabulate(rows, header))"
      ]
    }
  ],
  "metadata": {
    "colab": {
      "provenance": []
    },
    "kernelspec": {
      "display_name": "Python 3 (ipykernel)",
      "language": "python",
      "name": "python3"
    },
    "language_info": {
      "codemirror_mode": {
        "name": "ipython",
        "version": 3
      },
      "file_extension": ".py",
      "mimetype": "text/x-python",
      "name": "python",
      "nbconvert_exporter": "python",
      "pygments_lexer": "ipython3",
      "version": "3.10.6"
    }
  },
  "nbformat": 4,
  "nbformat_minor": 0
}
